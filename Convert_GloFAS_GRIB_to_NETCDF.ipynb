{
 "cells": [
  {
   "cell_type": "code",
   "execution_count": 1,
   "id": "88d427b9",
   "metadata": {},
   "outputs": [],
   "source": [
    "import os\n",
    "import xarray as xr"
   ]
  },
  {
   "cell_type": "code",
   "execution_count": 3,
   "id": "ee8f3e14",
   "metadata": {},
   "outputs": [
    {
     "name": "stdout",
     "output_type": "stream",
     "text": [
      "2002\n",
      "1979\n",
      "1980\n",
      "1981\n",
      "1982\n",
      "1983\n",
      "1984\n",
      "1985\n",
      "1986\n",
      "1987\n",
      "1988\n",
      "1989\n",
      "1990\n",
      "1991\n",
      "1992\n",
      "1993\n",
      "1994\n",
      "1995\n",
      "1996\n"
     ]
    },
    {
     "name": "stderr",
     "output_type": "stream",
     "text": [
      "skipping corrupted Message\n",
      "Traceback (most recent call last):\n",
      "  File \"/net3/e1n/miniconda3/envs/mom6/lib/python3.10/site-packages/cfgrib/messages.py\", line 273, in itervalues\n",
      "    yield self.filestream.message_from_file(file, errors=errors)\n",
      "  File \"/net3/e1n/miniconda3/envs/mom6/lib/python3.10/site-packages/cfgrib/messages.py\", line 340, in message_from_file\n",
      "    return Message.from_file(file, offset, **kwargs)\n",
      "  File \"/net3/e1n/miniconda3/envs/mom6/lib/python3.10/site-packages/cfgrib/messages.py\", line 96, in from_file\n",
      "    codes_id = eccodes.codes_grib_new_from_file(file)\n",
      "  File \"/net3/e1n/miniconda3/envs/mom6/lib/python3.10/site-packages/gribapi/gribapi.py\", line 413, in grib_new_from_file\n",
      "    GRIB_CHECK(err)\n",
      "  File \"/net3/e1n/miniconda3/envs/mom6/lib/python3.10/site-packages/gribapi/gribapi.py\", line 230, in GRIB_CHECK\n",
      "    errors.raise_grib_error(errid)\n",
      "  File \"/net3/e1n/miniconda3/envs/mom6/lib/python3.10/site-packages/gribapi/errors.py\", line 382, in raise_grib_error\n",
      "    raise ERROR_MAP[errid](errid)\n",
      "gribapi.errors.PrematureEndOfFileError: End of resource reached when reading message\n"
     ]
    },
    {
     "name": "stdout",
     "output_type": "stream",
     "text": [
      "2022\n",
      "2021\n",
      "2016\n",
      "2017\n",
      "2018\n",
      "2019\n",
      "2020\n",
      "2012\n",
      "2013\n",
      "2014\n",
      "2015\n",
      "2007\n",
      "2008\n",
      "2009\n",
      "2010\n",
      "2011\n",
      "2004\n",
      "2005\n",
      "2006\n",
      "2002\n",
      "2003\n",
      "1997\n",
      "1998\n",
      "1999\n",
      "2000\n",
      "2001\n"
     ]
    }
   ],
   "source": [
    "arch_dir = <DIRECTORY CONTAINING GLOFAS GRIB FILES>\n",
    "directory = os.fsencode(arch_dir)\n",
    "first_grib = True    \n",
    "for file in os.listdir(directory):\n",
    "    filename = os.fsdecode(file)\n",
    "    if filename.endswith(\".grib\"): \n",
    "        data = xr.open_dataset(os.path.join(arch_dir, filename),engine='cfgrib').drop_vars(('step','surface','valid_time'))\n",
    "        # removing GRIB-specific attributes\n",
    "        if first_grib:\n",
    "            global_att_list = list(data.attrs.keys())\n",
    "            dis24_att_list = list(data.dis24.attrs.keys())\n",
    "            first_grib = False\n",
    "\n",
    "        for attr in global_att_list:\n",
    "            if attr[:4] == 'GRIB':\n",
    "                del data.attrs[attr]\n",
    "\n",
    "        for attr in dis24_att_list:\n",
    "            if (attr[:4] == 'GRIB') or (attr == 'standard_name'):\n",
    "        \n",
    "                del data.dis24.attrs[attr]\n",
    "            \n",
    "        glo_year = str(data.time.data[3].astype('datetime64[Y]').astype(int) + 1970)\n",
    "        print(glo_year)\n",
    "        ncfil_name = 'GloFAS_river_discharge_' + glo_year + '_v3.1.nc'\n",
    "        data.to_netcdf(ncfil_name,unlimited_dims='time',encoding={'time': {'dtype': 'i4'}})"
   ]
  },
  {
   "cell_type": "code",
   "execution_count": null,
   "id": "c00e9fba",
   "metadata": {},
   "outputs": [],
   "source": []
  }
 ],
 "metadata": {
  "kernelspec": {
   "display_name": "Python 3 (ipykernel)",
   "language": "python",
   "name": "python3"
  },
  "language_info": {
   "codemirror_mode": {
    "name": "ipython",
    "version": 3
   },
   "file_extension": ".py",
   "mimetype": "text/x-python",
   "name": "python",
   "nbconvert_exporter": "python",
   "pygments_lexer": "ipython3",
   "version": "3.10.8"
  }
 },
 "nbformat": 4,
 "nbformat_minor": 5
}
